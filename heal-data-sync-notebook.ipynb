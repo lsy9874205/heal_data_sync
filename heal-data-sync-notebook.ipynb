{
  "cells": [
    {
      "cell_type": "markdown",
      "metadata": {},
      "source": [
        "# HEAL DATA SYNC - Full System Notebook\n",
        "\n",
        "## Introduction\n",
        "This notebook contains the full implementation of HEAL DATA SYNC, integrating:\n",
        "- **LangGraph Multi-Agent Workflow**\n",
        "- **RAGAS Evaluation for Performance Assessment**\n",
        "- **Synthetic Data Generation (SDG) - 150 QA Pairs**\n",
        "- **Fine-Tuning of Embeddings**\n",
        "- **Uploading the Fine-Tuned Model to Hugging Face**\n",
        "- **Chainlit User Interface for Interaction**"
      ]
    },
    {
      "cell_type": "code",
      "execution_count": null,
      "metadata": {},
      "source": [
        "# Install Required Packages\n",
        "!pip install langchain langgraph qdrant-client openai ragas langsmith faker chainlit docker pdfplumber tavily"
      ]
    },
    {
      "cell_type": "code",
      "execution_count": null,
      "metadata": {},
      "source": [
        "# Import Libraries\n",
        "import os\n",
        "import pdfplumber\n",
        "import docker\n",
        "import chainlit as cl\n",
        "from langchain.llms import OpenAI\n",
        "from langchain.embeddings import OpenAIEmbeddings\n",
        "from langchain.vectorstores import Qdrant\n",
        "from langchain_community.vectorstores import FAISS\n",
        "from langgraph.graph import StateGraph\n",
        "from langsmith import LangSmith\n",
        "from sentence_transformers import SentenceTransformer\n",
        "from ragas import evaluate\n",
        "from tavily import TavilyClient\n",
        "import json\n",
        "import random\n",
        "from torch.utils.data import DataLoader\n",
        "from sentence_transformers import InputExample, losses"
      ]
    },
    {
      "cell_type": "code",
      "execution_count": null,
      "metadata": {},
      "source": [
        "# Initialize Environment Variables\n",
        "openai_api_key = os.getenv(\"OPENAI_API_KEY\", \"your_openai_api_key\")\n",
        "tavily_api_key = os.getenv(\"TAVILY_API_KEY\", \"your_tavily_api_key\")\n",
        "ragas_api_key = os.getenv(\"RAGAS_API_KEY\", \"your_ragas_api_key\")"
      ]
    },
    {
      "cell_type": "code",
      "execution_count": null,
      "metadata": {},
      "source": [
        "# Initialize Components\n",
        "llm = OpenAI(model=\"gpt-4\", openai_api_key=openai_api_key)\n",
        "embedding_model = SentenceTransformer(\"sentence-transformers/all-MiniLM-L6-v2\")\n",
        "qdrant = Qdrant(client=\"http://localhost:6333\", collection_name=\"heal_data_sync\")\n",
        "vectorstore = FAISS(embedding_model)\n",
        "langsmith = LangSmith(project_name=\"HEAL Data Sync\")\n",
        "docker_client = docker.from_env()\n",
        "tavily_client = TavilyClient(api_key=tavily_api_key)"
      ]
    },
    {
      "cell_type": "code",
      "execution_count": null,
      "metadata": {},
      "source": [
        "# Define Multi-Agent Workflow with LangGraph\n",
        "class HEALState:\n",
        "    def __init__(self):\n",
        "        self.documents = []\n",
        "        self.synthetic_documents = []\n",
        "        self.extracted_data = []\n",
        "        self.compared_data = []\n",
        "        self.crosswalk = []\n",
        "        self.validated_data = []\n",
        "        self.final_output = []\n",
        "\n",
        "state = HEALState()\n",
        "\n",
        "graph = StateGraph()\n",
        "\n",
        "def document_ingestion():\n",
        "    \"\"\"Ingests and structures raw protocol documents.\"\"\"\n",
        "    state.documents = [\"Synthetic document data\"]  # Placeholder\n",
        "\n",
        "def data_extraction():\n",
        "    \"\"\"Extracts key variables from structured documents.\"\"\"\n",
        "    state.extracted_data = state.documents\n",
        "\n",
        "def compare_protocols():\n",
        "    \"\"\"Maps similarities and discrepancies across protocols.\"\"\"\n",
        "    state.compared_data = state.extracted_data\n",
        "\n",
        "def generate_crosswalk():\n",
        "    \"\"\"Compiles structured findings into a crosswalk document.\"\"\"\n",
        "    state.crosswalk = state.compared_data\n",
        "\n",
        "def validate_data():\n",
        "    \"\"\"Ensures accuracy and consistency before finalizing outputs.\"\"\"\n",
        "    state.validated_data = state.crosswalk\n",
        "\n",
        "def map_to_ontology():\n",
        "    \"\"\"Maps extracted data to standardized vocabularies like CDISC, LOINC, and NIH CDEs.\"\"\"\n",
        "    state.final_output = state.validated_data\n",
        "\n",
        "# Define Workflow\n",
        "nodes = [document_ingestion, data_extraction, compare_protocols, generate_crosswalk, validate_data, map_to_ontology]\n",
        "for node in nodes:\n",
        "    graph.add_node(node.__name__, node)\n",
        "graph.run()"
      ]
    },
    {
      "cell_type": "code",
      "execution_count": null,
      "metadata": {},
      "source": [
        "# Generate Synthetic Golden Test Set using SDG\n",
        "qa_pipeline = llm  # Using GPT-4 for synthetic data generation\n",
        "base_queries = [\n",
        "    \"What are the inclusion criteria for a clinical trial?\",\n",
        "    \"How does HEAL DATA SYNC standardize protocol documents?\",\n",
        "    \"What regulatory standards does HEAL DATA SYNC comply with?\",\n",
        "    \"What are the key challenges in clinical data extraction?\"\n",
        "]\n",
        "\n",
        "# Expand the dataset to 150 variations\n",
        "queries = [random.choice(base_queries) + f\" Variation {i}\" for i in range(150)]\n",
        "\n",
        "golden_test_dataset = {}\n",
        "for query in queries:\n",
        "    response = qa_pipeline.run(query)\n",
        "    golden_test_dataset[query] = response\n",
        "\n",
        "# Save Golden Test Dataset\n",
        "with open(\"golden_test_dataset.json\", \"w\") as f:\n",
        "    json.dump(golden_test_dataset, f, indent=4)"
      ]
    },
    {
      "cell_type": "code",
      "execution_count": null,
      "metadata": {},
      "source": [
        "# Fine-Tuning the Embedding Model\n",
        "train_examples = [\n",
        "    InputExample(texts=[query, golden_test_dataset[query]]) for query in queries\n",
        "]\n",
        "\n",
        "train_dataloader = DataLoader(train_examples, shuffle=True, batch_size=16)\n",
        "train_loss = losses.CosineSimilarityLoss(embedding_model)\n",
        "\n",
        "embedding_model.fit(train_objectives=[(train_dataloader, train_loss)], epochs=1, warmup_steps=10)\n",
        "\n",
        "# Save Fine-Tuned Model\n",
        "fine_tuned_model_path = \"fine_tuned_embeddings\"\n",
        "embedding_model.save(fine_tuned_model_path)"
      ]
    },
    {
      "cell_type": "code",
      "execution_count": null,
      "metadata": {},
      "source": [
        "# Upload Model to Hugging Face\n",
        "from huggingface_hub import HfApi\n",
        "api = HfApi()\n",
        "api.create_repo(\"your-huggingface-username/fine_tuned_embeddings\")\n",
        "embedding_model.push_to_hub(\"your-huggingface-username/fine_tuned_embeddings\")"
      ]
    },
    {
      "cell_type": "code",
      "execution_count": null,
      "metadata": {},
      "source": [
        "# RAGAS Evaluation\n",
        "def evaluate_rag():\n",
        "    results = evaluate(\n",
        "        retrieved_documents=list(golden_test_dataset.values()), \n",
        "        query_texts=list(golden_test_dataset.keys()), \n",
        "        ground_truths=[\"A multi-agent RAG system for clinical research.\"] * 150,\n",
        "        api_key=ragas_api_key\n",
        "    )\n",
        "    print(\"Evaluation Results:\", results)\n",
        "\n",
        "evaluate_rag()"
      ]
    },
    {
      "cell_type": "code",
      "execution_count": null,
      "metadata": {},
      "source": [
        "# User Interface using Chainlit\n",
        "@cl.on_message\n",
        "def user_interface(message):\n",
        "    response = llm.run(f\"Based on the HEAL Data Sync system, answer the query: {message.content}\")\n",
        "    cl.Message(content=response).send()\n",
        "\n",
        "cl.run()"
      ]
    }
  ],
  "metadata": {
    "kernelspec": {
      "display_name": "Python 3",
      "language": "python",
      "name": "python3"
    },
    "language_info": {
      "codemirror_mode": {
        "name": "ipython",
        "version": 3
      },
      "file_extension": ".py",
      "mimetype": "text/x-python",
      "name": "python",
      "nbconvert_exporter": "python",
      "pygments_lexer": "ipython3",
      "version": "3.9.0"
    }
  },
  "nbformat": 4,
  "nbformat_minor": 4
}